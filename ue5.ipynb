{
 "cells": [
  {
   "cell_type": "code",
   "execution_count": 1,
   "metadata": {
    "ExecuteTime": {
     "end_time": "2019-07-27T22:04:44.239951Z",
     "start_time": "2019-07-27T22:04:40.605531Z"
    }
   },
   "outputs": [
    {
     "name": "stderr",
     "output_type": "stream",
     "text": [
      "C:\\Users\\thoma\\AppData\\Roaming\\Python\\Python37\\site-packages\\numpy\\core\\__init__.py:29: UserWarning: loaded more than 1 DLL from .libs:\n",
      "C:\\Users\\thoma\\AppData\\Roaming\\Python\\Python37\\site-packages\\numpy\\.libs\\libopenblas.IPBC74C7KURV7CB2PKT5Z5FNR3SIBV4J.gfortran-win_amd64.dll\n",
      "C:\\Users\\thoma\\AppData\\Roaming\\Python\\Python37\\site-packages\\numpy\\.libs\\libopenblas.TXA6YQSD3GCQQC22GEQ54J2UDCXDXHWN.gfortran-win_amd64.dll\n",
      "  stacklevel=1)\n"
     ]
    }
   ],
   "source": [
    "import requests\n",
    "from bs4 import BeautifulSoup\n",
    "import re\n",
    "import datetime\n",
    "import hashlib\n",
    "import pandas as pd\n",
    "import time as t\n",
    "import hashlib\n",
    "import json"
   ]
  },
  {
   "cell_type": "code",
   "execution_count": 2,
   "metadata": {
    "ExecuteTime": {
     "end_time": "2019-07-27T22:05:46.593340Z",
     "start_time": "2019-07-27T22:04:44.247962Z"
    }
   },
   "outputs": [],
   "source": [
    "weekdays = ['Montag', 'Dienstag', 'Mittwoch', 'Donnerstag', 'Freitag', 'Samstag', 'Sonntag']\n",
    "home = 'https://www.hall-tirol.at'\n",
    "events = '/veranstaltungen/'\n",
    "\n",
    "pages = []\n",
    "pages.append(home + events)\n",
    "response = requests.get(home + events)\n",
    "soup = BeautifulSoup(response.content, 'html.parser')\n",
    "events = []\n",
    "\n",
    "for j in range(len(soup.select('.pageNaviLink'))):\n",
    "    pages.append(home + soup.select('.pageNaviLink')[j].attrs['href'])\n",
    "\n",
    "\n",
    "for page in pages:\n",
    "    t.sleep(3)\n",
    "    response = requests.get(page)\n",
    "    soup = BeautifulSoup(response.content, 'html.parser')\n",
    "\n",
    "    i = 0\n",
    "\n",
    "    items = soup.select('h3.listEntryTitle')\n",
    "    for item in items:\n",
    "        t.sleep(0.1)\n",
    "\n",
    "        try:\n",
    "            title = item.select_one('a').string\n",
    "        except: AttributeError\n",
    "\n",
    "        try:\n",
    "            date = soup.select('span.daydate.dayFrom')[i].string\n",
    "            date = datetime.datetime(int(date[6:]), int(date[3:5]), int(date[0:2]))\n",
    "            week_day = weekdays[pd.to_datetime(date).weekday()]\n",
    "        except: AttributeError \n",
    "\n",
    "        try:    \n",
    "            time = soup.select('span.timeFrom')[i].get_text().replace(', ', '')\n",
    "        except: AttributeError \n",
    "\n",
    "        try:\n",
    "            link = home + str(item.select_one('a').attrs['href'])\n",
    "        except: AttributeError \n",
    "\n",
    "        try:\n",
    "            location = soup.select('span.listEntryLocation')[i].string\n",
    "            if location == None or '':\n",
    "                location = 'Hall in Tirol'\n",
    "        except: AttributeError\n",
    "\n",
    "        try:\n",
    "            short = soup.select('div.listEntryDescription')[i].string.strip().replace('\\n', '')\n",
    "            short = short\n",
    "        except: AttributeError\n",
    "\n",
    "\n",
    "        i += 1\n",
    "\n",
    "\n",
    "        hash = hashlib.sha256()\n",
    "        hash.update(bytes(title, 'utf-8'))\n",
    "        hash.update(bytes(location, 'utf-8'))\n",
    "        hash.update(bytes(str(date), 'utf-8'))\n",
    "        hash.update(bytes(str(time), 'utf-8'))\n",
    "\n",
    "        events.append({\n",
    "            \"name\": title,\n",
    "            \"date\": date,\n",
    "            \"location\": location,\n",
    "            \"link\": link,\n",
    "            \"short\": short,\n",
    "            \"source\": \"Region Hall in Tirol Homepage\",\n",
    "            \"identifier\": hash.hexdigest()\n",
    "        })"
   ]
  },
  {
   "cell_type": "code",
   "execution_count": 3,
   "metadata": {
    "ExecuteTime": {
     "end_time": "2019-07-27T22:05:47.144211Z",
     "start_time": "2019-07-27T22:05:46.601214Z"
    }
   },
   "outputs": [],
   "source": [
    "from sqlalchemy import Column, Integer, String, DateTime\n",
    "from sqlalchemy.ext.declarative import declarative_base\n",
    "from sqlalchemy import create_engine\n",
    "\n",
    "Base = declarative_base()\n",
    "\n",
    "class Event(Base):\n",
    "    __tablename__ = 'event'\n",
    "\n",
    "    id = Column(Integer, primary_key=True)\n",
    "    identifier = Column(String)\n",
    "    name = Column(String)\n",
    "    location = Column(String)\n",
    "    source = Column(String)\n",
    "    short = Column(String)\n",
    "    date = Column(DateTime)\n",
    "    link = Column(String)\n",
    "\n",
    "\n",
    "\n",
    "engine = create_engine('sqlite:///events_db_ue5.sqlite')\n",
    "Base.metadata.create_all(engine)"
   ]
  },
  {
   "cell_type": "code",
   "execution_count": 4,
   "metadata": {
    "ExecuteTime": {
     "end_time": "2019-07-27T22:05:47.512210Z",
     "start_time": "2019-07-27T22:05:47.165238Z"
    }
   },
   "outputs": [],
   "source": [
    "from sqlalchemy import create_engine\n",
    "from sqlalchemy.orm import sessionmaker\n",
    "# from declarations import Event, Base\n",
    "# from fhku_event_scraper import get_latest_events\n",
    "\n",
    "engine = create_engine('sqlite:///events_db_ue5.sqlite')\n",
    "Base.metadata.bind = engine\n",
    "\n",
    "DBSession = sessionmaker(bind=engine)\n",
    "session = DBSession()\n",
    "\n",
    "\n",
    "for event in events:\n",
    "    ev = session.query(Event).filter_by(identifier=event['identifier']).first()\n",
    "    \n",
    "    if not ev:\n",
    "        session.add(Event(\n",
    "            name=event['name'],\n",
    "            location=event['location'],\n",
    "            link=event['link'],\n",
    "            short=event['short'],\n",
    "            date=event['date'],\n",
    "            source=event['source'],\n",
    "            identifier=event['identifier']\n",
    "            ))\n",
    "\n",
    "        \n",
    "\n",
    "session.commit()\n",
    "session.close()"
   ]
  }
 ],
 "metadata": {
  "kernelspec": {
   "display_name": "Python 3",
   "language": "python",
   "name": "python3"
  },
  "language_info": {
   "codemirror_mode": {
    "name": "ipython",
    "version": 3
   },
   "file_extension": ".py",
   "mimetype": "text/x-python",
   "name": "python",
   "nbconvert_exporter": "python",
   "pygments_lexer": "ipython3",
   "version": "3.7.3"
  }
 },
 "nbformat": 4,
 "nbformat_minor": 2
}
