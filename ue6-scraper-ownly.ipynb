{
 "cells": [
  {
   "cell_type": "code",
   "execution_count": 1,
   "metadata": {
    "ExecuteTime": {
     "end_time": "2019-07-27T22:27:59.000829Z",
     "start_time": "2019-07-27T22:27:53.073913Z"
    }
   },
   "outputs": [
    {
     "name": "stderr",
     "output_type": "stream",
     "text": [
      "C:\\Users\\thoma\\AppData\\Roaming\\Python\\Python37\\site-packages\\numpy\\core\\__init__.py:29: UserWarning: loaded more than 1 DLL from .libs:\n",
      "C:\\Users\\thoma\\AppData\\Roaming\\Python\\Python37\\site-packages\\numpy\\.libs\\libopenblas.IPBC74C7KURV7CB2PKT5Z5FNR3SIBV4J.gfortran-win_amd64.dll\n",
      "C:\\Users\\thoma\\AppData\\Roaming\\Python\\Python37\\site-packages\\numpy\\.libs\\libopenblas.TXA6YQSD3GCQQC22GEQ54J2UDCXDXHWN.gfortran-win_amd64.dll\n",
      "  stacklevel=1)\n"
     ]
    }
   ],
   "source": [
    "import requests\n",
    "from bs4 import BeautifulSoup\n",
    "import re\n",
    "import datetime\n",
    "import hashlib\n",
    "import pandas as pd\n",
    "import time as t\n",
    "import hashlib\n",
    "import json"
   ]
  },
  {
   "cell_type": "code",
   "execution_count": 2,
   "metadata": {
    "ExecuteTime": {
     "end_time": "2019-07-27T22:28:20.501071Z",
     "start_time": "2019-07-27T22:27:59.363400Z"
    }
   },
   "outputs": [],
   "source": [
    "weekdays = ['Montag', 'Dienstag', 'Mittwoch', 'Donnerstag', 'Freitag', 'Samstag', 'Sonntag']\n",
    "home = 'http://www.stromboli.at'\n",
    "events = '/index.php/programm'\n",
    "\n",
    "pages = []\n",
    "pages.append(home + events)\n",
    "\n",
    "response = requests.get(home + events)\n",
    "soup = BeautifulSoup(response.content, 'html.parser')\n",
    "events = []\n",
    "\n",
    "for tt in range(len(soup.select('.pagination')[0]('a'))):\n",
    "    try:\n",
    "        int(soup.select('.pagination')[0]('a')[tt].attrs['title'])\n",
    "        pages.append(home + soup.select('.pagination')[0]('a')[tt].attrs['href'])\n",
    "    except: KeyError\n",
    "\n",
    "for page in pages:\n",
    "    t.sleep(3)\n",
    "    response = requests.get(page)\n",
    "    soup = BeautifulSoup(response.content, 'html.parser')\n",
    "\n",
    "    i = 0\n",
    "\n",
    "    items = soup.select('h2.article-title')\n",
    "    for item in items:\n",
    "        t.sleep(0.1)\n",
    "\n",
    "        try:\n",
    "            title_list = [item.select('a')[0].get_text().strip().split()[2][5:], ' '.join(item.select('a')[0].get_text().strip().split()[3:])]\n",
    "            title = ' '.join(title_list)\n",
    "            if title[0] == '-':\n",
    "                title = title[6:]\n",
    "            if title == ' ':\n",
    "                title = soup.select('div.col-md-8')[2*i]('p')[0].get_text().strip().split('\\r')[0]\n",
    "                \n",
    "        except: AttributeError\n",
    "\n",
    "        try:\n",
    "            date = item.select('a')[0].get_text().split()[1]\n",
    "            day, month, year = int(date[0:2]), int(date[3:5]), int('20'+date[6:8])\n",
    "            date = datetime.datetime(year, month, day)\n",
    "            week_day = weekdays[date.weekday()]\n",
    "        except: AttributeError \n",
    "\n",
    "        try:    \n",
    "            time = item.select('a')[0].get_text().split()[2][0:5]\n",
    "        except: AttributeError \n",
    "\n",
    "        try:\n",
    "            link = home + item.select('a')[0].attrs['href']\n",
    "        except: AttributeError \n",
    "\n",
    "        try:\n",
    "            location = 'Stromboli Hall in Tirol'\n",
    "        except: AttributeError\n",
    "\n",
    "        try:\n",
    "            short = soup.select('div.col-md-8')[2*i]('p')[0].get_text().strip()\n",
    "        except: AttributeError\n",
    "\n",
    "        i += 1\n",
    "\n",
    "\n",
    "        hash = hashlib.sha256()\n",
    "        hash.update(bytes(title, 'utf-8'))\n",
    "        hash.update(bytes(location, 'utf-8'))\n",
    "        hash.update(bytes(str(date), 'utf-8'))\n",
    "        hash.update(bytes(str(time), 'utf-8'))\n",
    "        \n",
    "        if type(date) == datetime.datetime:\n",
    "            \n",
    "            events.append({\n",
    "                \"name\": title,\n",
    "                \"date\": date,\n",
    "                \"location\": location,\n",
    "                \"link\": link,\n",
    "                \"short\": short,\n",
    "                \"source\": \"Stromboli Hall in Tirol Homepage\",\n",
    "                \"identifier\": hash.hexdigest()\n",
    "            })"
   ]
  },
  {
   "cell_type": "code",
   "execution_count": 4,
   "metadata": {
    "ExecuteTime": {
     "end_time": "2019-07-27T22:28:21.097071Z",
     "start_time": "2019-07-27T22:28:20.552078Z"
    }
   },
   "outputs": [],
   "source": [
    "from sqlalchemy import Column, Integer, String, DateTime\n",
    "from sqlalchemy.ext.declarative import declarative_base\n",
    "from sqlalchemy import create_engine\n",
    "\n",
    "Base = declarative_base()\n",
    "\n",
    "class Event(Base):\n",
    "    __tablename__ = 'event'\n",
    "\n",
    "    id = Column(Integer, primary_key=True)\n",
    "    identifier = Column(String)\n",
    "    name = Column(String)\n",
    "    location = Column(String)\n",
    "    source = Column(String)\n",
    "    short = Column(String)\n",
    "    date = Column(DateTime)\n",
    "    link = Column(String)\n",
    "\n",
    "\n",
    "\n",
    "engine = create_engine('sqlite:///events_db_ue6_scraper_ownly.sqlite')\n",
    "Base.metadata.create_all(engine)"
   ]
  },
  {
   "cell_type": "code",
   "execution_count": 5,
   "metadata": {
    "ExecuteTime": {
     "end_time": "2019-07-27T22:28:21.253075Z",
     "start_time": "2019-07-27T22:28:21.103073Z"
    }
   },
   "outputs": [],
   "source": [
    "from sqlalchemy import create_engine\n",
    "from sqlalchemy.orm import sessionmaker\n",
    "# from declarations import Event, Base\n",
    "# from fhku_event_scraper import get_latest_events\n",
    "\n",
    "engine = create_engine('sqlite:///events_db_ue6_scraper_ownly.sqlite')\n",
    "Base.metadata.bind = engine\n",
    "\n",
    "DBSession = sessionmaker(bind=engine)\n",
    "session = DBSession()\n",
    "\n",
    "\n",
    "for event in events:\n",
    "    ev = session.query(Event).filter_by(identifier=event['identifier']).first()\n",
    "    \n",
    "    if not ev:\n",
    "        session.add(Event(\n",
    "            name=event['name'],\n",
    "            location=event['location'],\n",
    "            link=event['link'],\n",
    "            short=event['short'],\n",
    "            date=event['date'],\n",
    "            source=event['source'],\n",
    "            identifier=event['identifier']\n",
    "            ))\n",
    "\n",
    "        \n",
    "\n",
    "session.commit()\n",
    "session.close()"
   ]
  }
 ],
 "metadata": {
  "kernelspec": {
   "display_name": "Python 3",
   "language": "python",
   "name": "python3"
  },
  "language_info": {
   "codemirror_mode": {
    "name": "ipython",
    "version": 3
   },
   "file_extension": ".py",
   "mimetype": "text/x-python",
   "name": "python",
   "nbconvert_exporter": "python",
   "pygments_lexer": "ipython3",
   "version": "3.7.3"
  }
 },
 "nbformat": 4,
 "nbformat_minor": 2
}
